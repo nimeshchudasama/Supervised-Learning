{
 "cells": [
  {
   "cell_type": "code",
   "execution_count": 2,
   "metadata": {},
   "outputs": [],
   "source": [
    "import numpy as np\n",
    "import pandas as pd\n",
    "import seaborn as sns\n",
    "import matplotlib.pyplot as plt\n",
    "from sklearn import tree\n",
    "from sklearn.metrics import accuracy_score\n",
    "from sklearn.model_selection import KFold\n",
    "from sklearn.model_selection import cross_val_score\n",
    "from sklearn.model_selection import train_test_split\n",
    "from sklearn.tree import DecisionTreeClassifier\n",
    "from sklearn.model_selection import GridSearchCV\n",
    "from sklearn.metrics import accuracy_score\n",
    "from sklearn.neural_network import MLPClassifier\n",
    "from sklearn.svm import SVC\n",
    "from sklearn.neighbors import KNeighborsClassifier\n",
    "from sklearn.ensemble import GradientBoostingClassifier\n",
    "import time\n",
    "%matplotlib inline"
   ]
  },
  {
   "cell_type": "markdown",
   "metadata": {},
   "source": [
    "# Clean the data"
   ]
  },
  {
   "cell_type": "code",
   "execution_count": 3,
   "metadata": {
    "scrolled": true
   },
   "outputs": [
    {
     "data": {
      "text/html": [
       "<div>\n",
       "<style scoped>\n",
       "    .dataframe tbody tr th:only-of-type {\n",
       "        vertical-align: middle;\n",
       "    }\n",
       "\n",
       "    .dataframe tbody tr th {\n",
       "        vertical-align: top;\n",
       "    }\n",
       "\n",
       "    .dataframe thead th {\n",
       "        text-align: right;\n",
       "    }\n",
       "</style>\n",
       "<table border=\"1\" class=\"dataframe\">\n",
       "  <thead>\n",
       "    <tr style=\"text-align: right;\">\n",
       "      <th></th>\n",
       "      <th>Sex</th>\n",
       "      <th>Length</th>\n",
       "      <th>Diameter</th>\n",
       "      <th>Height</th>\n",
       "      <th>Whole weight</th>\n",
       "      <th>Shucked weight</th>\n",
       "      <th>Viscera weight</th>\n",
       "      <th>Shell weight</th>\n",
       "      <th>Rings</th>\n",
       "    </tr>\n",
       "  </thead>\n",
       "  <tbody>\n",
       "    <tr>\n",
       "      <th>0</th>\n",
       "      <td>M</td>\n",
       "      <td>0.455</td>\n",
       "      <td>0.365</td>\n",
       "      <td>0.095</td>\n",
       "      <td>0.5140</td>\n",
       "      <td>0.2245</td>\n",
       "      <td>0.1010</td>\n",
       "      <td>0.1500</td>\n",
       "      <td>15</td>\n",
       "    </tr>\n",
       "    <tr>\n",
       "      <th>1</th>\n",
       "      <td>M</td>\n",
       "      <td>0.350</td>\n",
       "      <td>0.265</td>\n",
       "      <td>0.090</td>\n",
       "      <td>0.2255</td>\n",
       "      <td>0.0995</td>\n",
       "      <td>0.0485</td>\n",
       "      <td>0.0700</td>\n",
       "      <td>7</td>\n",
       "    </tr>\n",
       "    <tr>\n",
       "      <th>2</th>\n",
       "      <td>F</td>\n",
       "      <td>0.530</td>\n",
       "      <td>0.420</td>\n",
       "      <td>0.135</td>\n",
       "      <td>0.6770</td>\n",
       "      <td>0.2565</td>\n",
       "      <td>0.1415</td>\n",
       "      <td>0.2100</td>\n",
       "      <td>9</td>\n",
       "    </tr>\n",
       "    <tr>\n",
       "      <th>3</th>\n",
       "      <td>M</td>\n",
       "      <td>0.440</td>\n",
       "      <td>0.365</td>\n",
       "      <td>0.125</td>\n",
       "      <td>0.5160</td>\n",
       "      <td>0.2155</td>\n",
       "      <td>0.1140</td>\n",
       "      <td>0.1550</td>\n",
       "      <td>10</td>\n",
       "    </tr>\n",
       "    <tr>\n",
       "      <th>4</th>\n",
       "      <td>I</td>\n",
       "      <td>0.330</td>\n",
       "      <td>0.255</td>\n",
       "      <td>0.080</td>\n",
       "      <td>0.2050</td>\n",
       "      <td>0.0895</td>\n",
       "      <td>0.0395</td>\n",
       "      <td>0.0550</td>\n",
       "      <td>7</td>\n",
       "    </tr>\n",
       "    <tr>\n",
       "      <th>...</th>\n",
       "      <td>...</td>\n",
       "      <td>...</td>\n",
       "      <td>...</td>\n",
       "      <td>...</td>\n",
       "      <td>...</td>\n",
       "      <td>...</td>\n",
       "      <td>...</td>\n",
       "      <td>...</td>\n",
       "      <td>...</td>\n",
       "    </tr>\n",
       "    <tr>\n",
       "      <th>4172</th>\n",
       "      <td>F</td>\n",
       "      <td>0.565</td>\n",
       "      <td>0.450</td>\n",
       "      <td>0.165</td>\n",
       "      <td>0.8870</td>\n",
       "      <td>0.3700</td>\n",
       "      <td>0.2390</td>\n",
       "      <td>0.2490</td>\n",
       "      <td>11</td>\n",
       "    </tr>\n",
       "    <tr>\n",
       "      <th>4173</th>\n",
       "      <td>M</td>\n",
       "      <td>0.590</td>\n",
       "      <td>0.440</td>\n",
       "      <td>0.135</td>\n",
       "      <td>0.9660</td>\n",
       "      <td>0.4390</td>\n",
       "      <td>0.2145</td>\n",
       "      <td>0.2605</td>\n",
       "      <td>10</td>\n",
       "    </tr>\n",
       "    <tr>\n",
       "      <th>4174</th>\n",
       "      <td>M</td>\n",
       "      <td>0.600</td>\n",
       "      <td>0.475</td>\n",
       "      <td>0.205</td>\n",
       "      <td>1.1760</td>\n",
       "      <td>0.5255</td>\n",
       "      <td>0.2875</td>\n",
       "      <td>0.3080</td>\n",
       "      <td>9</td>\n",
       "    </tr>\n",
       "    <tr>\n",
       "      <th>4175</th>\n",
       "      <td>F</td>\n",
       "      <td>0.625</td>\n",
       "      <td>0.485</td>\n",
       "      <td>0.150</td>\n",
       "      <td>1.0945</td>\n",
       "      <td>0.5310</td>\n",
       "      <td>0.2610</td>\n",
       "      <td>0.2960</td>\n",
       "      <td>10</td>\n",
       "    </tr>\n",
       "    <tr>\n",
       "      <th>4176</th>\n",
       "      <td>M</td>\n",
       "      <td>0.710</td>\n",
       "      <td>0.555</td>\n",
       "      <td>0.195</td>\n",
       "      <td>1.9485</td>\n",
       "      <td>0.9455</td>\n",
       "      <td>0.3765</td>\n",
       "      <td>0.4950</td>\n",
       "      <td>12</td>\n",
       "    </tr>\n",
       "  </tbody>\n",
       "</table>\n",
       "<p>4177 rows × 9 columns</p>\n",
       "</div>"
      ],
      "text/plain": [
       "     Sex  Length  Diameter  Height  Whole weight  Shucked weight  \\\n",
       "0      M   0.455     0.365   0.095        0.5140          0.2245   \n",
       "1      M   0.350     0.265   0.090        0.2255          0.0995   \n",
       "2      F   0.530     0.420   0.135        0.6770          0.2565   \n",
       "3      M   0.440     0.365   0.125        0.5160          0.2155   \n",
       "4      I   0.330     0.255   0.080        0.2050          0.0895   \n",
       "...   ..     ...       ...     ...           ...             ...   \n",
       "4172   F   0.565     0.450   0.165        0.8870          0.3700   \n",
       "4173   M   0.590     0.440   0.135        0.9660          0.4390   \n",
       "4174   M   0.600     0.475   0.205        1.1760          0.5255   \n",
       "4175   F   0.625     0.485   0.150        1.0945          0.5310   \n",
       "4176   M   0.710     0.555   0.195        1.9485          0.9455   \n",
       "\n",
       "      Viscera weight  Shell weight  Rings  \n",
       "0             0.1010        0.1500     15  \n",
       "1             0.0485        0.0700      7  \n",
       "2             0.1415        0.2100      9  \n",
       "3             0.1140        0.1550     10  \n",
       "4             0.0395        0.0550      7  \n",
       "...              ...           ...    ...  \n",
       "4172          0.2390        0.2490     11  \n",
       "4173          0.2145        0.2605     10  \n",
       "4174          0.2875        0.3080      9  \n",
       "4175          0.2610        0.2960     10  \n",
       "4176          0.3765        0.4950     12  \n",
       "\n",
       "[4177 rows x 9 columns]"
      ]
     },
     "execution_count": 3,
     "metadata": {},
     "output_type": "execute_result"
    }
   ],
   "source": [
    "#Load the data\n",
    "columnNames = [\"Sex\", \"Length\", \"Diameter\", \"Height\",\"Whole weight\",\"Shucked weight\",\"Viscera weight\",\"Shell weight\",\"Rings\"]\n",
    "\n",
    "df = pd.read_csv('abalone.data', header=None)\n",
    "df.columns = columnNames\n",
    "df"
   ]
  },
  {
   "cell_type": "code",
   "execution_count": 4,
   "metadata": {
    "scrolled": false
   },
   "outputs": [
    {
     "data": {
      "text/html": [
       "<div>\n",
       "<style scoped>\n",
       "    .dataframe tbody tr th:only-of-type {\n",
       "        vertical-align: middle;\n",
       "    }\n",
       "\n",
       "    .dataframe tbody tr th {\n",
       "        vertical-align: top;\n",
       "    }\n",
       "\n",
       "    .dataframe thead th {\n",
       "        text-align: right;\n",
       "    }\n",
       "</style>\n",
       "<table border=\"1\" class=\"dataframe\">\n",
       "  <thead>\n",
       "    <tr style=\"text-align: right;\">\n",
       "      <th></th>\n",
       "      <th>Sex</th>\n",
       "      <th>Length</th>\n",
       "      <th>Diameter</th>\n",
       "      <th>Height</th>\n",
       "      <th>Whole weight</th>\n",
       "      <th>Shucked weight</th>\n",
       "      <th>Viscera weight</th>\n",
       "      <th>Shell weight</th>\n",
       "      <th>Age</th>\n",
       "    </tr>\n",
       "  </thead>\n",
       "  <tbody>\n",
       "    <tr>\n",
       "      <th>0</th>\n",
       "      <td>1</td>\n",
       "      <td>0.455</td>\n",
       "      <td>0.365</td>\n",
       "      <td>0.095</td>\n",
       "      <td>0.5140</td>\n",
       "      <td>0.2245</td>\n",
       "      <td>0.1010</td>\n",
       "      <td>0.1500</td>\n",
       "      <td>16.5</td>\n",
       "    </tr>\n",
       "    <tr>\n",
       "      <th>1</th>\n",
       "      <td>1</td>\n",
       "      <td>0.350</td>\n",
       "      <td>0.265</td>\n",
       "      <td>0.090</td>\n",
       "      <td>0.2255</td>\n",
       "      <td>0.0995</td>\n",
       "      <td>0.0485</td>\n",
       "      <td>0.0700</td>\n",
       "      <td>8.5</td>\n",
       "    </tr>\n",
       "    <tr>\n",
       "      <th>2</th>\n",
       "      <td>0</td>\n",
       "      <td>0.530</td>\n",
       "      <td>0.420</td>\n",
       "      <td>0.135</td>\n",
       "      <td>0.6770</td>\n",
       "      <td>0.2565</td>\n",
       "      <td>0.1415</td>\n",
       "      <td>0.2100</td>\n",
       "      <td>10.5</td>\n",
       "    </tr>\n",
       "    <tr>\n",
       "      <th>3</th>\n",
       "      <td>1</td>\n",
       "      <td>0.440</td>\n",
       "      <td>0.365</td>\n",
       "      <td>0.125</td>\n",
       "      <td>0.5160</td>\n",
       "      <td>0.2155</td>\n",
       "      <td>0.1140</td>\n",
       "      <td>0.1550</td>\n",
       "      <td>11.5</td>\n",
       "    </tr>\n",
       "    <tr>\n",
       "      <th>4</th>\n",
       "      <td>2</td>\n",
       "      <td>0.330</td>\n",
       "      <td>0.255</td>\n",
       "      <td>0.080</td>\n",
       "      <td>0.2050</td>\n",
       "      <td>0.0895</td>\n",
       "      <td>0.0395</td>\n",
       "      <td>0.0550</td>\n",
       "      <td>8.5</td>\n",
       "    </tr>\n",
       "    <tr>\n",
       "      <th>...</th>\n",
       "      <td>...</td>\n",
       "      <td>...</td>\n",
       "      <td>...</td>\n",
       "      <td>...</td>\n",
       "      <td>...</td>\n",
       "      <td>...</td>\n",
       "      <td>...</td>\n",
       "      <td>...</td>\n",
       "      <td>...</td>\n",
       "    </tr>\n",
       "    <tr>\n",
       "      <th>4172</th>\n",
       "      <td>0</td>\n",
       "      <td>0.565</td>\n",
       "      <td>0.450</td>\n",
       "      <td>0.165</td>\n",
       "      <td>0.8870</td>\n",
       "      <td>0.3700</td>\n",
       "      <td>0.2390</td>\n",
       "      <td>0.2490</td>\n",
       "      <td>12.5</td>\n",
       "    </tr>\n",
       "    <tr>\n",
       "      <th>4173</th>\n",
       "      <td>1</td>\n",
       "      <td>0.590</td>\n",
       "      <td>0.440</td>\n",
       "      <td>0.135</td>\n",
       "      <td>0.9660</td>\n",
       "      <td>0.4390</td>\n",
       "      <td>0.2145</td>\n",
       "      <td>0.2605</td>\n",
       "      <td>11.5</td>\n",
       "    </tr>\n",
       "    <tr>\n",
       "      <th>4174</th>\n",
       "      <td>1</td>\n",
       "      <td>0.600</td>\n",
       "      <td>0.475</td>\n",
       "      <td>0.205</td>\n",
       "      <td>1.1760</td>\n",
       "      <td>0.5255</td>\n",
       "      <td>0.2875</td>\n",
       "      <td>0.3080</td>\n",
       "      <td>10.5</td>\n",
       "    </tr>\n",
       "    <tr>\n",
       "      <th>4175</th>\n",
       "      <td>0</td>\n",
       "      <td>0.625</td>\n",
       "      <td>0.485</td>\n",
       "      <td>0.150</td>\n",
       "      <td>1.0945</td>\n",
       "      <td>0.5310</td>\n",
       "      <td>0.2610</td>\n",
       "      <td>0.2960</td>\n",
       "      <td>11.5</td>\n",
       "    </tr>\n",
       "    <tr>\n",
       "      <th>4176</th>\n",
       "      <td>1</td>\n",
       "      <td>0.710</td>\n",
       "      <td>0.555</td>\n",
       "      <td>0.195</td>\n",
       "      <td>1.9485</td>\n",
       "      <td>0.9455</td>\n",
       "      <td>0.3765</td>\n",
       "      <td>0.4950</td>\n",
       "      <td>13.5</td>\n",
       "    </tr>\n",
       "  </tbody>\n",
       "</table>\n",
       "<p>4177 rows × 9 columns</p>\n",
       "</div>"
      ],
      "text/plain": [
       "      Sex  Length  Diameter  Height  Whole weight  Shucked weight  \\\n",
       "0       1   0.455     0.365   0.095        0.5140          0.2245   \n",
       "1       1   0.350     0.265   0.090        0.2255          0.0995   \n",
       "2       0   0.530     0.420   0.135        0.6770          0.2565   \n",
       "3       1   0.440     0.365   0.125        0.5160          0.2155   \n",
       "4       2   0.330     0.255   0.080        0.2050          0.0895   \n",
       "...   ...     ...       ...     ...           ...             ...   \n",
       "4172    0   0.565     0.450   0.165        0.8870          0.3700   \n",
       "4173    1   0.590     0.440   0.135        0.9660          0.4390   \n",
       "4174    1   0.600     0.475   0.205        1.1760          0.5255   \n",
       "4175    0   0.625     0.485   0.150        1.0945          0.5310   \n",
       "4176    1   0.710     0.555   0.195        1.9485          0.9455   \n",
       "\n",
       "      Viscera weight  Shell weight   Age  \n",
       "0             0.1010        0.1500  16.5  \n",
       "1             0.0485        0.0700   8.5  \n",
       "2             0.1415        0.2100  10.5  \n",
       "3             0.1140        0.1550  11.5  \n",
       "4             0.0395        0.0550   8.5  \n",
       "...              ...           ...   ...  \n",
       "4172          0.2390        0.2490  12.5  \n",
       "4173          0.2145        0.2605  11.5  \n",
       "4174          0.2875        0.3080  10.5  \n",
       "4175          0.2610        0.2960  11.5  \n",
       "4176          0.3765        0.4950  13.5  \n",
       "\n",
       "[4177 rows x 9 columns]"
      ]
     },
     "execution_count": 4,
     "metadata": {},
     "output_type": "execute_result"
    }
   ],
   "source": [
    "#Clean data (Make sex a numerical category)\n",
    "df['Sex'] = df['Sex'].map({'F':0,'M':1,'I':2}).astype(int)\n",
    "\n",
    "#Clean data (Turns rings into Age)\n",
    "df['Rings'] = df['Rings'].apply(lambda x: x+1.5)\n",
    "df.rename(columns={'Rings': 'Age'}, inplace=True)\n",
    "df"
   ]
  },
  {
   "cell_type": "markdown",
   "metadata": {},
   "source": [
    "# Make the categories instead of regression"
   ]
  },
  {
   "cell_type": "code",
   "execution_count": 5,
   "metadata": {
    "scrolled": true
   },
   "outputs": [
    {
     "data": {
      "image/png": "[encoded data removed]",
      "text/plain": [
       "<Figure size 432x288 with 1 Axes>"
      ]
     },
     "metadata": {
      "needs_background": "light"
     },
     "output_type": "display_data"
    }
   ],
   "source": [
    "df[\"Category\"] = pd.cut(df[\"Age\"],\n",
    "                               bins=[0, 5, 10, 15, 20, 25, np.inf],\n",
    "                               labels=['[0-5)', '[5-10)', '[10-15)', '[15-20)', '[20-25)','[25+)'])\n",
    "# df[\"Category\"] = pd.cut(df[\"Age\"],\n",
    "#                                bins=[0., 3., 6., 9., 12., 15., 18., 21., 24., 27., 30., 33., 36, np.inf],\n",
    "#                                labels=['[0-3)', '[3-6)', '[6-9)', '[9-12)','[12-15)','[15-18)','[18-21)','[21-24)','[24-27)','[27-30)','[30-33)','[33-36)','[36-inf)'])\n",
    "\n",
    "\n",
    "plt.hist(df['Age'], bins=30)  # density=False would make counts\n",
    "plt.ylabel('Number of Organisms')\n",
    "plt.xlabel('Age')\n",
    "plt.show()"
   ]
  },
  {
   "cell_type": "markdown",
   "metadata": {},
   "source": [
    "# Prepare data to split into train/test"
   ]
  },
  {
   "cell_type": "code",
   "execution_count": 5,
   "metadata": {
    "scrolled": true
   },
   "outputs": [],
   "source": [
    "train, test = train_test_split(df,test_size = .2, random_state=42)\n",
    "\n",
    "xtrain = train.drop(['Age','Category'], axis=1)\n",
    "ytrain = train[\"Category\"]\n",
    "\n",
    "xtest = test.drop(['Age','Category'], axis=1)\n",
    "ytest = test[\"Category\"]"
   ]
  },
  {
   "cell_type": "markdown",
   "metadata": {},
   "source": [
    "# Initialize Comparison"
   ]
  },
  {
   "cell_type": "code",
   "execution_count": 6,
   "metadata": {},
   "outputs": [],
   "source": [
    "algoTimes = []\n",
    "algoAccuracies = []\n",
    "\n",
    "algoXLabels = ['DTree Pruning', 'NN', 'DTree Boosting', 'SVM', 'KNN']"
   ]
  },
  {
   "cell_type": "markdown",
   "metadata": {},
   "source": [
    "# Decision Tree with Pruning"
   ]
  },
  {
   "cell_type": "code",
   "execution_count": 7,
   "metadata": {
    "scrolled": true
   },
   "outputs": [],
   "source": [
    "depth_range = range(1, 20)\n",
    "entropyTrain = []\n",
    "entropyTest = []\n",
    "giniTrain = []\n",
    "giniTest = []\n",
    "start_time = time.time()\n",
    "for depth in depth_range:\n",
    "    #Gini training\n",
    "    dtree = DecisionTreeClassifier(criterion='gini', max_depth=depth)\n",
    "    dtree.fit(xtrain, ytrain)\n",
    "    ypredTrain = dtree.predict(xtrain)\n",
    "    ypredTest = dtree.predict(xtest)\n",
    "    \n",
    "    giniTrain.append(accuracy_score(ytrain,ypredTrain))\n",
    "    giniTest.append(accuracy_score(ytest,ypredTest))\n",
    "\n",
    "\n",
    "    #Entropy Training\n",
    "    dtree = DecisionTreeClassifier(criterion='entropy', max_depth=depth)\n",
    "    dtree.fit(xtrain, ytrain)\n",
    "    ypredTrain = dtree.predict(xtrain)\n",
    "    ypredTest = dtree.predict(xtest)\n",
    "    \n",
    "    entropyTrain.append(accuracy_score(ytrain,ypredTrain))\n",
    "    entropyTest.append(accuracy_score(ytest,ypredTest))\n",
    "algoTimes.append(time.time() - start_time)"
   ]
  },
  {
   "cell_type": "code",
   "execution_count": 8,
   "metadata": {
    "scrolled": false
   },
   "outputs": [
    {
     "name": "stdout",
     "output_type": "stream",
     "text": [
      "71.88995215311004\n",
      "72.24880382775119\n"
     ]
    },
    {
     "data": {
      "image/png": "[encoded data removed]",
      "text/plain": [
       "<Figure size 432x288 with 1 Axes>"
      ]
     },
     "metadata": {
      "needs_background": "light"
     },
     "output_type": "display_data"
    }
   ],
   "source": [
    "# Gini vs Entropy\n",
    "plt.plot(depth_range,giniTrain,label='Gini Train')\n",
    "plt.plot(depth_range,giniTest, label='Gini Test')\n",
    "plt.xticks(depth_range)\n",
    "plt.xlabel('Max Depth')\n",
    "plt.ylabel('Accuracy')\n",
    "plt.legend(loc='upper right', bbox_to_anchor=(.35, 0.2))\n",
    "print(max(entropyTest) * 100)\n",
    "print(max(giniTest) * 100)\n",
    "algoAccuracies.append(max(giniTest))"
   ]
  },
  {
   "cell_type": "code",
   "execution_count": 9,
   "metadata": {},
   "outputs": [
    {
     "name": "stdout",
     "output_type": "stream",
     "text": [
      "99.97006884166417\n",
      "99.40137683328345\n"
     ]
    },
    {
     "data": {
      "image/png": "[encoded data removed]",
      "text/plain": [
       "<Figure size 432x288 with 1 Axes>"
      ]
     },
     "metadata": {
      "needs_background": "light"
     },
     "output_type": "display_data"
    }
   ],
   "source": [
    "# Gini vs Entropy\n",
    "plt.plot(depth_range,entropyTrain,label='Entropy Train')\n",
    "plt.plot(depth_range,entropyTest, label='Entropy Test')\n",
    "plt.xticks(depth_range)\n",
    "plt.xlabel('Max Depth')\n",
    "plt.ylabel('Accuracy')\n",
    "plt.legend(loc='upper right', bbox_to_anchor=(.35, 0.2))\n",
    "print(max(entropyTrain) * 100)\n",
    "print(max(giniTrain) * 100)"
   ]
  },
  {
   "cell_type": "markdown",
   "metadata": {},
   "source": [
    "# Neural Networks"
   ]
  },
  {
   "cell_type": "code",
   "execution_count": 10,
   "metadata": {},
   "outputs": [],
   "source": [
    "hiddenlayer = [10,20,30,40,50,60,70,80,90,100,110,120,130,140,150]\n",
    "nnTrain = []\n",
    "nnTest = []\n",
    "for i in hiddenlayer:\n",
    "    nn = MLPClassifier(hidden_layer_sizes = (i,), learning_rate_init=0.05, random_state=42)\n",
    "    nn.fit(xtrain, ytrain)\n",
    "    ypredTrain = nn.predict(xtrain)\n",
    "    ypredTest = nn.predict(xtest)\n",
    "    nnTrain.append(accuracy_score(ytrain,ypredTrain))\n",
    "    nnTest.append(accuracy_score(ytest,ypredTest))"
   ]
  },
  {
   "cell_type": "code",
   "execution_count": 11,
   "metadata": {},
   "outputs": [
    {
     "name": "stdout",
     "output_type": "stream",
     "text": [
      "74.25920383118827\n",
      "74.52153110047847\n"
     ]
    },
    {
     "data": {
      "image/png": "[encoded data removed]",
      "text/plain": [
       "<Figure size 432x288 with 1 Axes>"
      ]
     },
     "metadata": {
      "needs_background": "light"
     },
     "output_type": "display_data"
    }
   ],
   "source": [
    "plt.plot(hiddenlayer,nnTrain,label='NN on Train')\n",
    "plt.plot(hiddenlayer,nnTest,label='NN on Test')\n",
    "plt.xticks(hiddenlayer)\n",
    "plt.xlabel('Hidden Layers')\n",
    "plt.ylabel('Accuracy')\n",
    "plt.legend(loc='upper right', bbox_to_anchor=(0.35, 0.2))\n",
    "print(max(nnTrain) * 100)\n",
    "print(max(nnTest) * 100)"
   ]
  },
  {
   "cell_type": "code",
   "execution_count": 12,
   "metadata": {
    "scrolled": true
   },
   "outputs": [
    {
     "name": "stdout",
     "output_type": "stream",
     "text": [
      "Best parameters found:\n",
      " {'activation': 'relu', 'alpha': 0.01, 'hidden_layer_sizes': (150,), 'learning_rate': 'constant', 'solver': 'adam'}\n"
     ]
    },
    {
     "name": "stderr",
     "output_type": "stream",
     "text": [
      "C:\\Users\\Nimesh\\AppData\\Roaming\\Python\\Python37\\site-packages\\sklearn\\neural_network\\_multilayer_perceptron.py:617: ConvergenceWarning: Stochastic Optimizer: Maximum iterations (200) reached and the optimization hasn't converged yet.\n",
      "  % self.max_iter, ConvergenceWarning)\n"
     ]
    }
   ],
   "source": [
    "nnParams = {\n",
    "    'hidden_layer_sizes':[(10,),(30,),(50,),(70,),(90,),(110,),(130,),(150,)],\n",
    "    'activation':['tanh', 'relu', 'logistic'],\n",
    "    'solver':['sgd','adam'],\n",
    "    'alpha':[0.0001,.005,.01,.05],\n",
    "    'learning_rate':['constant', 'adaptive'],\n",
    "}\n",
    "nn = MLPClassifier()\n",
    "start_time = time.time()\n",
    "clf = GridSearchCV(nn,nnParams,n_jobs=-1,cv=2)\n",
    "clf.fit(xtrain,ytrain)\n",
    "print('Best parameters found:\\n', clf.best_params_)\n",
    "\n",
    "algoTimes.append(time.time() - start_time)\n",
    "\n",
    "ypredTest = clf.predict(xtest)\n",
    "accuracy_score(ytest,ypredTest)\n",
    "\n",
    "algoAccuracies.append(accuracy_score(ytest,ypredTest))"
   ]
  },
  {
   "cell_type": "markdown",
   "metadata": {},
   "source": [
    "# Boosted Decision Tree"
   ]
  },
  {
   "cell_type": "code",
   "execution_count": 13,
   "metadata": {},
   "outputs": [],
   "source": [
    "estimators = [1,10,20,30,40,50,60,70,80,90,100,110,120,130,140,150,160,170,180,190,200]\n",
    "bTreeTrain = []\n",
    "bTreeTest = []\n",
    "for i in estimators:\n",
    "    bDtree = GradientBoostingClassifier(n_estimators=i, random_state=42)\n",
    "    bDtree.fit(xtrain, ytrain)\n",
    "    ypredTrain = bDtree.predict(xtrain)\n",
    "    ypredTest = bDtree.predict(xtest)\n",
    "    bTreeTrain.append(accuracy_score(ytrain,ypredTrain))\n",
    "    bTreeTest.append(accuracy_score(ytest,ypredTest))"
   ]
  },
  {
   "cell_type": "code",
   "execution_count": 14,
   "metadata": {},
   "outputs": [
    {
     "name": "stdout",
     "output_type": "stream",
     "text": [
      "88.68602214905717\n",
      "73.08612440191388\n"
     ]
    },
    {
     "data": {
      "image/png": "[encoded data removed]",
      "text/plain": [
       "<Figure size 432x288 with 1 Axes>"
      ]
     },
     "metadata": {
      "needs_background": "light"
     },
     "output_type": "display_data"
    }
   ],
   "source": [
    "plt.plot(estimators,bTreeTrain,label='NN on Train')\n",
    "plt.plot(estimators,bTreeTest,label='NN on Test')\n",
    "plt.xticks(estimators)\n",
    "plt.xlabel('Num boosting stages')\n",
    "plt.ylabel('Accuracy')\n",
    "plt.legend(loc='upper right', bbox_to_anchor=(0.35, 0.2))\n",
    "print(max(bTreeTrain) * 100)\n",
    "print(max(bTreeTest) * 100)"
   ]
  },
  {
   "cell_type": "code",
   "execution_count": 15,
   "metadata": {},
   "outputs": [
    {
     "name": "stdout",
     "output_type": "stream",
     "text": [
      "Best parameters found:\n",
      " {'max_depth': 3, 'n_estimators': 10}\n",
      "0.715311004784689\n"
     ]
    }
   ],
   "source": [
    "bdTreeParams = {\n",
    "    'n_estimators': estimators,\n",
    "    'max_depth':[3,4,5],\n",
    "}\n",
    "bDtree = GradientBoostingClassifier()\n",
    "start_time = time.time()\n",
    "clf = GridSearchCV(bDtree,bdTreeParams,n_jobs=-1,cv=2)\n",
    "clf.fit(xtrain,ytrain)\n",
    "algoTimes.append(time.time() - start_time)\n",
    "print('Best parameters found:\\n', clf.best_params_)\n",
    "\n",
    "ypredTest = clf.predict(xtest)\n",
    "print(accuracy_score(ytest,ypredTest))\n",
    "algoAccuracies.append(accuracy_score(ytest,ypredTest))"
   ]
  },
  {
   "cell_type": "markdown",
   "metadata": {},
   "source": [
    "# Support Vector Machines"
   ]
  },
  {
   "cell_type": "code",
   "execution_count": 16,
   "metadata": {},
   "outputs": [],
   "source": [
    "#omitted precomputer kernel because it's not a square matrix\n",
    "kernels = ['poly','rbf','sigmoid', 'linear']\n",
    "poly = [2,3,4,5,6,7,8]\n",
    "\n",
    "testAcc = []\n",
    "trainAcc = []\n",
    "start_time = time.time()\n",
    "for kernel in kernels:\n",
    "    if kernel == 'poly':\n",
    "        for i in poly:\n",
    "            svm = SVC(kernel = kernel, degree = i,random_state=42)\n",
    "            svm.fit(xtrain,ytrain)\n",
    "            ypredTrain = svm.predict(xtrain)\n",
    "            ypredTest = svm.predict(xtest)\n",
    "            trainAcc.append(accuracy_score(ytrain,ypredTrain))\n",
    "            testAcc.append(accuracy_score(ytest,ypredTest))\n",
    "    elif kernel == 'sigmoid':\n",
    "        svm = SVC(kernel = kernel,random_state=42,gamma='auto')\n",
    "        svm.fit(xtrain,ytrain)\n",
    "        ypredTrain = svm.predict(xtrain)\n",
    "        ypredTest = svm.predict(xtest)\n",
    "        trainAcc.append(accuracy_score(ytrain,ypredTrain))\n",
    "        testAcc.append(accuracy_score(ytest,ypredTest))\n",
    "    else:\n",
    "        svm = SVC(kernel = kernel,random_state=42)\n",
    "        svm.fit(xtrain,ytrain)\n",
    "        ypredTrain = svm.predict(xtrain)\n",
    "        ypredTest = svm.predict(xtest)\n",
    "        trainAcc.append(accuracy_score(ytrain,ypredTrain))\n",
    "        testAcc.append(accuracy_score(ytest,ypredTest))\n",
    "algoTimes.append(time.time()-start_time)"
   ]
  },
  {
   "cell_type": "code",
   "execution_count": 17,
   "metadata": {},
   "outputs": [
    {
     "name": "stdout",
     "output_type": "stream",
     "text": [
      "72.24880382775119\n",
      "72.3436096976953\n"
     ]
    },
    {
     "data": {
      "image/png": "[encoded data removed]",
      "text/plain": [
       "<Figure size 432x288 with 1 Axes>"
      ]
     },
     "metadata": {
      "needs_background": "light"
     },
     "output_type": "display_data"
    }
   ],
   "source": [
    "xlabels = ['poly2', 'poly3', 'poly4', 'poly5','poly6','poly7','poly8','rbf','sigmoid','linear']\n",
    "plt.plot(xlabels, trainAcc,label='SVM on Train')\n",
    "plt.plot(xlabels, testAcc,label='SVM on Test')\n",
    "plt.xlabel('Kernel')\n",
    "plt.ylabel('Accuracy')\n",
    "plt.legend(loc='upper right', bbox_to_anchor=(0.35, 0.2))\n",
    "print(max(testAcc) * 100)\n",
    "print(max(trainAcc) * 100)\n",
    "algoAccuracies.append(max(testAcc))"
   ]
  },
  {
   "cell_type": "markdown",
   "metadata": {},
   "source": [
    "# k-nearest neighbors"
   ]
  },
  {
   "cell_type": "code",
   "execution_count": 18,
   "metadata": {},
   "outputs": [],
   "source": [
    "neighbors = range(1, 20)\n",
    "knnTrain = []\n",
    "knnTest = []\n",
    "for i in neighbors:\n",
    "    knn = KNeighborsClassifier(n_neighbors = i)\n",
    "    knn.fit(xtrain,ytrain)\n",
    "    ypredTrain = knn.predict(xtrain)\n",
    "    ypredTest = knn.predict(xtest)\n",
    "    knnTrain.append(accuracy_score(ytrain,ypredTrain))\n",
    "    knnTest.append(accuracy_score(ytest,ypredTest))"
   ]
  },
  {
   "cell_type": "code",
   "execution_count": 19,
   "metadata": {
    "scrolled": true
   },
   "outputs": [
    {
     "name": "stdout",
     "output_type": "stream",
     "text": [
      "100.0\n",
      "73.08612440191388\n"
     ]
    },
    {
     "data": {
      "image/png": "[encoded data removed]",
      "text/plain": [
       "<Figure size 432x288 with 1 Axes>"
      ]
     },
     "metadata": {
      "needs_background": "light"
     },
     "output_type": "display_data"
    }
   ],
   "source": [
    "plt.plot(neighbors, knnTrain,label='KNN on Train')\n",
    "plt.plot(neighbors, knnTest,label='KNN on Test')\n",
    "plt.xticks(neighbors)\n",
    "plt.ylabel('Accuracy')\n",
    "plt.xlabel('Number of Neighbors')\n",
    "plt.legend(loc='upper right', bbox_to_anchor=(0.8, 0.2))\n",
    "print(max(knnTrain) * 100)\n",
    "print(max(knnTest) * 100)"
   ]
  },
  {
   "cell_type": "code",
   "execution_count": 20,
   "metadata": {},
   "outputs": [
    {
     "name": "stdout",
     "output_type": "stream",
     "text": [
      "Best parameters found:\n",
      " {'algorithm': 'auto', 'n_neighbors': 10, 'weights': 'distance'}\n",
      "0.7296650717703349\n"
     ]
    }
   ],
   "source": [
    "knnParams = {\n",
    "    'n_neighbors':[1,2,4,5,6,7,8,9,10],\n",
    "    'weights': ['uniform','distance'],\n",
    "    'algorithm':['auto','ball_tree','kd_tree','brute'],\n",
    "}\n",
    "knn = KNeighborsClassifier()\n",
    "start_time = time.time()\n",
    "clf = GridSearchCV(knn,knnParams,n_jobs=-1,cv=2)\n",
    "clf.fit(xtrain,ytrain)\n",
    "algoTimes.append(time.time() - start_time)\n",
    "print('Best parameters found:\\n', clf.best_params_)\n",
    "\n",
    "ypredTest = clf.predict(xtest)\n",
    "print(accuracy_score(ytest,ypredTest))\n",
    "algoAccuracies.append(accuracy_score(ytest,ypredTest))"
   ]
  },
  {
   "cell_type": "markdown",
   "metadata": {},
   "source": [
    "# Comparison of Algorithms"
   ]
  },
  {
   "cell_type": "code",
   "execution_count": 21,
   "metadata": {},
   "outputs": [
    {
     "data": {
      "text/plain": [
       "[0.722488038277512,\n",
       " 0.7332535885167464,\n",
       " 0.715311004784689,\n",
       " 0.722488038277512,\n",
       " 0.7296650717703349]"
      ]
     },
     "execution_count": 21,
     "metadata": {},
     "output_type": "execute_result"
    }
   ],
   "source": [
    "algoAccuracies"
   ]
  },
  {
   "cell_type": "code",
   "execution_count": 22,
   "metadata": {},
   "outputs": [
    {
     "data": {
      "text/plain": [
       "[0.9861087799072266,\n",
       " 259.95147585868835,\n",
       " 39.98699903488159,\n",
       " 30.180845737457275,\n",
       " 1.506115436553955]"
      ]
     },
     "execution_count": 22,
     "metadata": {},
     "output_type": "execute_result"
    }
   ],
   "source": [
    "algoTimes"
   ]
  },
  {
   "cell_type": "code",
   "execution_count": 23,
   "metadata": {},
   "outputs": [
    {
     "data": {
      "text/plain": [
       "Text(0.5, 0, 'Algorithms')"
      ]
     },
     "execution_count": 23,
     "metadata": {},
     "output_type": "execute_result"
    },
    {
     "data": {
      "image/png": "[encoded data removed]",
      "text/plain": [
       "<Figure size 432x288 with 1 Axes>"
      ]
     },
     "metadata": {
      "needs_background": "light"
     },
     "output_type": "display_data"
    }
   ],
   "source": [
    "plt.bar(algoXLabels, algoTimes)\n",
    "plt.ylabel('Time (seconds)')\n",
    "plt.xlabel('Algorithms')"
   ]
  },
  {
   "cell_type": "code",
   "execution_count": 27,
   "metadata": {},
   "outputs": [
    {
     "data": {
      "text/plain": [
       "Text(0.5, 0, 'Algorithms')"
      ]
     },
     "execution_count": 27,
     "metadata": {},
     "output_type": "execute_result"
    },
    {
     "data": {
      "image/png": "[encoded data removed]",
      "text/plain": [
       "<Figure size 432x288 with 1 Axes>"
      ]
     },
     "metadata": {
      "needs_background": "light"
     },
     "output_type": "display_data"
    }
   ],
   "source": [
    "plt.bar(algoXLabels, algoAccuracies)\n",
    "plt.ylabel('Accuracy of Test')\n",
    "plt.ylim(.7, .8)\n",
    "plt.xlabel('Algorithms')"
   ]
  },
  {
   "cell_type": "code",
   "execution_count": null,
   "metadata": {},
   "outputs": [],
   "source": []
  }
 ],
 "metadata": {
  "kernelspec": {
   "display_name": "Python 3",
   "language": "python",
   "name": "python3"
  },
  "language_info": {
   "codemirror_mode": {
    "name": "ipython",
    "version": 3
   },
   "file_extension": ".py",
   "mimetype": "text/x-python",
   "name": "python",
   "nbconvert_exporter": "python",
   "pygments_lexer": "ipython3",
   "version": "3.7.8"
  }
 },
 "nbformat": 4,
 "nbformat_minor": 4
}
