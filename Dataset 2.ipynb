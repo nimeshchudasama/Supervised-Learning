{
 "cells": [
  {
   "cell_type": "code",
   "execution_count": 1,
   "metadata": {},
   "outputs": [],
   "source": [
    "import numpy as np\n",
    "import pandas as pd\n",
    "import seaborn as sns\n",
    "import matplotlib.pyplot as plt\n",
    "from sklearn import tree\n",
    "from sklearn.metrics import accuracy_score\n",
    "from sklearn.model_selection import KFold\n",
    "from sklearn.model_selection import cross_val_score\n",
    "from sklearn.model_selection import train_test_split\n",
    "from sklearn.tree import DecisionTreeClassifier\n",
    "from sklearn.model_selection import GridSearchCV\n",
    "from sklearn.metrics import accuracy_score\n",
    "from sklearn.neural_network import MLPClassifier\n",
    "from sklearn.svm import SVC\n",
    "from sklearn.neighbors import KNeighborsClassifier\n",
    "from sklearn.ensemble import GradientBoostingClassifier\n",
    "import time\n",
    "%matplotlib inline"
   ]
  },
  {
   "cell_type": "markdown",
   "metadata": {},
   "source": [
    "# Clean the data"
   ]
  },
  {
   "cell_type": "code",
   "execution_count": 2,
   "metadata": {
    "scrolled": true
   },
   "outputs": [
    {
     "data": {
      "text/html": [
       "<div>\n",
       "<style scoped>\n",
       "    .dataframe tbody tr th:only-of-type {\n",
       "        vertical-align: middle;\n",
       "    }\n",
       "\n",
       "    .dataframe tbody tr th {\n",
       "        vertical-align: top;\n",
       "    }\n",
       "\n",
       "    .dataframe thead th {\n",
       "        text-align: right;\n",
       "    }\n",
       "</style>\n",
       "<table border=\"1\" class=\"dataframe\">\n",
       "  <thead>\n",
       "    <tr style=\"text-align: right;\">\n",
       "      <th></th>\n",
       "      <th>Atr1</th>\n",
       "      <th>Atr2</th>\n",
       "      <th>Atr3</th>\n",
       "      <th>Atr4</th>\n",
       "      <th>Atr5</th>\n",
       "      <th>Atr6</th>\n",
       "      <th>Atr7</th>\n",
       "      <th>Atr8</th>\n",
       "      <th>Atr9</th>\n",
       "      <th>Atr10</th>\n",
       "      <th>...</th>\n",
       "      <th>Atr46</th>\n",
       "      <th>Atr47</th>\n",
       "      <th>Atr48</th>\n",
       "      <th>Atr49</th>\n",
       "      <th>Atr50</th>\n",
       "      <th>Atr51</th>\n",
       "      <th>Atr52</th>\n",
       "      <th>Atr53</th>\n",
       "      <th>Atr54</th>\n",
       "      <th>Class</th>\n",
       "    </tr>\n",
       "  </thead>\n",
       "  <tbody>\n",
       "    <tr>\n",
       "      <th>0</th>\n",
       "      <td>2</td>\n",
       "      <td>2</td>\n",
       "      <td>4</td>\n",
       "      <td>1</td>\n",
       "      <td>0</td>\n",
       "      <td>0</td>\n",
       "      <td>0</td>\n",
       "      <td>0</td>\n",
       "      <td>0</td>\n",
       "      <td>0</td>\n",
       "      <td>...</td>\n",
       "      <td>2</td>\n",
       "      <td>1</td>\n",
       "      <td>3</td>\n",
       "      <td>3</td>\n",
       "      <td>3</td>\n",
       "      <td>2</td>\n",
       "      <td>3</td>\n",
       "      <td>2</td>\n",
       "      <td>1</td>\n",
       "      <td>1</td>\n",
       "    </tr>\n",
       "    <tr>\n",
       "      <th>1</th>\n",
       "      <td>4</td>\n",
       "      <td>4</td>\n",
       "      <td>4</td>\n",
       "      <td>4</td>\n",
       "      <td>4</td>\n",
       "      <td>0</td>\n",
       "      <td>0</td>\n",
       "      <td>4</td>\n",
       "      <td>4</td>\n",
       "      <td>4</td>\n",
       "      <td>...</td>\n",
       "      <td>2</td>\n",
       "      <td>2</td>\n",
       "      <td>3</td>\n",
       "      <td>4</td>\n",
       "      <td>4</td>\n",
       "      <td>4</td>\n",
       "      <td>4</td>\n",
       "      <td>2</td>\n",
       "      <td>2</td>\n",
       "      <td>1</td>\n",
       "    </tr>\n",
       "    <tr>\n",
       "      <th>2</th>\n",
       "      <td>2</td>\n",
       "      <td>2</td>\n",
       "      <td>2</td>\n",
       "      <td>2</td>\n",
       "      <td>1</td>\n",
       "      <td>3</td>\n",
       "      <td>2</td>\n",
       "      <td>1</td>\n",
       "      <td>1</td>\n",
       "      <td>2</td>\n",
       "      <td>...</td>\n",
       "      <td>3</td>\n",
       "      <td>2</td>\n",
       "      <td>3</td>\n",
       "      <td>1</td>\n",
       "      <td>1</td>\n",
       "      <td>1</td>\n",
       "      <td>2</td>\n",
       "      <td>2</td>\n",
       "      <td>2</td>\n",
       "      <td>1</td>\n",
       "    </tr>\n",
       "    <tr>\n",
       "      <th>3</th>\n",
       "      <td>3</td>\n",
       "      <td>2</td>\n",
       "      <td>3</td>\n",
       "      <td>2</td>\n",
       "      <td>3</td>\n",
       "      <td>3</td>\n",
       "      <td>3</td>\n",
       "      <td>3</td>\n",
       "      <td>3</td>\n",
       "      <td>3</td>\n",
       "      <td>...</td>\n",
       "      <td>2</td>\n",
       "      <td>2</td>\n",
       "      <td>3</td>\n",
       "      <td>3</td>\n",
       "      <td>3</td>\n",
       "      <td>3</td>\n",
       "      <td>2</td>\n",
       "      <td>2</td>\n",
       "      <td>2</td>\n",
       "      <td>1</td>\n",
       "    </tr>\n",
       "    <tr>\n",
       "      <th>4</th>\n",
       "      <td>2</td>\n",
       "      <td>2</td>\n",
       "      <td>1</td>\n",
       "      <td>1</td>\n",
       "      <td>1</td>\n",
       "      <td>1</td>\n",
       "      <td>0</td>\n",
       "      <td>0</td>\n",
       "      <td>0</td>\n",
       "      <td>0</td>\n",
       "      <td>...</td>\n",
       "      <td>2</td>\n",
       "      <td>1</td>\n",
       "      <td>2</td>\n",
       "      <td>3</td>\n",
       "      <td>2</td>\n",
       "      <td>2</td>\n",
       "      <td>2</td>\n",
       "      <td>1</td>\n",
       "      <td>0</td>\n",
       "      <td>1</td>\n",
       "    </tr>\n",
       "    <tr>\n",
       "      <th>...</th>\n",
       "      <td>...</td>\n",
       "      <td>...</td>\n",
       "      <td>...</td>\n",
       "      <td>...</td>\n",
       "      <td>...</td>\n",
       "      <td>...</td>\n",
       "      <td>...</td>\n",
       "      <td>...</td>\n",
       "      <td>...</td>\n",
       "      <td>...</td>\n",
       "      <td>...</td>\n",
       "      <td>...</td>\n",
       "      <td>...</td>\n",
       "      <td>...</td>\n",
       "      <td>...</td>\n",
       "      <td>...</td>\n",
       "      <td>...</td>\n",
       "      <td>...</td>\n",
       "      <td>...</td>\n",
       "      <td>...</td>\n",
       "      <td>...</td>\n",
       "    </tr>\n",
       "    <tr>\n",
       "      <th>165</th>\n",
       "      <td>0</td>\n",
       "      <td>0</td>\n",
       "      <td>0</td>\n",
       "      <td>0</td>\n",
       "      <td>0</td>\n",
       "      <td>0</td>\n",
       "      <td>0</td>\n",
       "      <td>0</td>\n",
       "      <td>0</td>\n",
       "      <td>0</td>\n",
       "      <td>...</td>\n",
       "      <td>1</td>\n",
       "      <td>0</td>\n",
       "      <td>4</td>\n",
       "      <td>1</td>\n",
       "      <td>1</td>\n",
       "      <td>4</td>\n",
       "      <td>2</td>\n",
       "      <td>2</td>\n",
       "      <td>2</td>\n",
       "      <td>0</td>\n",
       "    </tr>\n",
       "    <tr>\n",
       "      <th>166</th>\n",
       "      <td>0</td>\n",
       "      <td>0</td>\n",
       "      <td>0</td>\n",
       "      <td>0</td>\n",
       "      <td>0</td>\n",
       "      <td>0</td>\n",
       "      <td>0</td>\n",
       "      <td>0</td>\n",
       "      <td>0</td>\n",
       "      <td>0</td>\n",
       "      <td>...</td>\n",
       "      <td>4</td>\n",
       "      <td>1</td>\n",
       "      <td>2</td>\n",
       "      <td>2</td>\n",
       "      <td>2</td>\n",
       "      <td>2</td>\n",
       "      <td>3</td>\n",
       "      <td>2</td>\n",
       "      <td>2</td>\n",
       "      <td>0</td>\n",
       "    </tr>\n",
       "    <tr>\n",
       "      <th>167</th>\n",
       "      <td>1</td>\n",
       "      <td>1</td>\n",
       "      <td>0</td>\n",
       "      <td>0</td>\n",
       "      <td>0</td>\n",
       "      <td>0</td>\n",
       "      <td>0</td>\n",
       "      <td>0</td>\n",
       "      <td>0</td>\n",
       "      <td>1</td>\n",
       "      <td>...</td>\n",
       "      <td>3</td>\n",
       "      <td>0</td>\n",
       "      <td>2</td>\n",
       "      <td>0</td>\n",
       "      <td>1</td>\n",
       "      <td>1</td>\n",
       "      <td>3</td>\n",
       "      <td>0</td>\n",
       "      <td>0</td>\n",
       "      <td>0</td>\n",
       "    </tr>\n",
       "    <tr>\n",
       "      <th>168</th>\n",
       "      <td>0</td>\n",
       "      <td>0</td>\n",
       "      <td>0</td>\n",
       "      <td>0</td>\n",
       "      <td>0</td>\n",
       "      <td>0</td>\n",
       "      <td>0</td>\n",
       "      <td>0</td>\n",
       "      <td>0</td>\n",
       "      <td>0</td>\n",
       "      <td>...</td>\n",
       "      <td>3</td>\n",
       "      <td>3</td>\n",
       "      <td>2</td>\n",
       "      <td>2</td>\n",
       "      <td>3</td>\n",
       "      <td>2</td>\n",
       "      <td>4</td>\n",
       "      <td>3</td>\n",
       "      <td>1</td>\n",
       "      <td>0</td>\n",
       "    </tr>\n",
       "    <tr>\n",
       "      <th>169</th>\n",
       "      <td>0</td>\n",
       "      <td>0</td>\n",
       "      <td>0</td>\n",
       "      <td>0</td>\n",
       "      <td>0</td>\n",
       "      <td>0</td>\n",
       "      <td>0</td>\n",
       "      <td>1</td>\n",
       "      <td>0</td>\n",
       "      <td>0</td>\n",
       "      <td>...</td>\n",
       "      <td>3</td>\n",
       "      <td>4</td>\n",
       "      <td>4</td>\n",
       "      <td>0</td>\n",
       "      <td>1</td>\n",
       "      <td>3</td>\n",
       "      <td>3</td>\n",
       "      <td>3</td>\n",
       "      <td>1</td>\n",
       "      <td>0</td>\n",
       "    </tr>\n",
       "  </tbody>\n",
       "</table>\n",
       "<p>170 rows × 55 columns</p>\n",
       "</div>"
      ],
      "text/plain": [
       "     Atr1  Atr2  Atr3  Atr4  Atr5  Atr6  Atr7  Atr8  Atr9  Atr10  ...  Atr46  \\\n",
       "0       2     2     4     1     0     0     0     0     0      0  ...      2   \n",
       "1       4     4     4     4     4     0     0     4     4      4  ...      2   \n",
       "2       2     2     2     2     1     3     2     1     1      2  ...      3   \n",
       "3       3     2     3     2     3     3     3     3     3      3  ...      2   \n",
       "4       2     2     1     1     1     1     0     0     0      0  ...      2   \n",
       "..    ...   ...   ...   ...   ...   ...   ...   ...   ...    ...  ...    ...   \n",
       "165     0     0     0     0     0     0     0     0     0      0  ...      1   \n",
       "166     0     0     0     0     0     0     0     0     0      0  ...      4   \n",
       "167     1     1     0     0     0     0     0     0     0      1  ...      3   \n",
       "168     0     0     0     0     0     0     0     0     0      0  ...      3   \n",
       "169     0     0     0     0     0     0     0     1     0      0  ...      3   \n",
       "\n",
       "     Atr47  Atr48  Atr49  Atr50  Atr51  Atr52  Atr53  Atr54  Class  \n",
       "0        1      3      3      3      2      3      2      1      1  \n",
       "1        2      3      4      4      4      4      2      2      1  \n",
       "2        2      3      1      1      1      2      2      2      1  \n",
       "3        2      3      3      3      3      2      2      2      1  \n",
       "4        1      2      3      2      2      2      1      0      1  \n",
       "..     ...    ...    ...    ...    ...    ...    ...    ...    ...  \n",
       "165      0      4      1      1      4      2      2      2      0  \n",
       "166      1      2      2      2      2      3      2      2      0  \n",
       "167      0      2      0      1      1      3      0      0      0  \n",
       "168      3      2      2      3      2      4      3      1      0  \n",
       "169      4      4      0      1      3      3      3      1      0  \n",
       "\n",
       "[170 rows x 55 columns]"
      ]
     },
     "execution_count": 2,
     "metadata": {},
     "output_type": "execute_result"
    }
   ],
   "source": [
    "#Load the data\n",
    "df = pd.read_csv('divorce.csv',sep = ';')\n",
    "df"
   ]
  },
  {
   "cell_type": "markdown",
   "metadata": {},
   "source": [
    "# Make the categories instead of regression"
   ]
  },
  {
   "cell_type": "markdown",
   "metadata": {},
   "source": [
    "# Prepare data to split into train/test"
   ]
  },
  {
   "cell_type": "code",
   "execution_count": 3,
   "metadata": {
    "scrolled": true
   },
   "outputs": [],
   "source": [
    "train, test = train_test_split(df,test_size = .3, random_state=42)\n",
    "\n",
    "xtrain = train.drop(['Class'], axis=1)\n",
    "ytrain = train[\"Class\"]\n",
    "\n",
    "xtest = test.drop(['Class'], axis=1)\n",
    "ytest = test[\"Class\"]"
   ]
  },
  {
   "cell_type": "markdown",
   "metadata": {},
   "source": [
    "# Initialize Comparison"
   ]
  },
  {
   "cell_type": "code",
   "execution_count": 4,
   "metadata": {},
   "outputs": [],
   "source": [
    "algoTimes = []\n",
    "algoAccuracies = []\n",
    "\n",
    "algoXLabels = ['DTree Pruning', 'NN', 'DTree Boosting', 'SVM', 'KNN']"
   ]
  },
  {
   "cell_type": "markdown",
   "metadata": {},
   "source": [
    "# Decision Tree with Pruning"
   ]
  },
  {
   "cell_type": "code",
   "execution_count": 5,
   "metadata": {
    "scrolled": true
   },
   "outputs": [],
   "source": [
    "depth_range = range(1, 20)\n",
    "entropyTrain = []\n",
    "entropyTest = []\n",
    "giniTrain = []\n",
    "giniTest = []\n",
    "start_time = time.time()\n",
    "for depth in depth_range:\n",
    "    #Gini training\n",
    "    dtree = DecisionTreeClassifier(criterion='gini', max_depth=depth)\n",
    "    dtree.fit(xtrain, ytrain)\n",
    "    ypredTrain = dtree.predict(xtrain)\n",
    "    ypredTest = dtree.predict(xtest)\n",
    "    \n",
    "    giniTrain.append(accuracy_score(ytrain,ypredTrain))\n",
    "    giniTest.append(accuracy_score(ytest,ypredTest))\n",
    "\n",
    "\n",
    "    #Entropy Training\n",
    "    dtree = DecisionTreeClassifier(criterion='entropy', max_depth=depth)\n",
    "    dtree.fit(xtrain, ytrain)\n",
    "    ypredTrain = dtree.predict(xtrain)\n",
    "    ypredTest = dtree.predict(xtest)\n",
    "    \n",
    "    entropyTrain.append(accuracy_score(ytrain,ypredTrain))\n",
    "    entropyTest.append(accuracy_score(ytest,ypredTest))\n",
    "algoTimes.append(time.time() - start_time)"
   ]
  },
  {
   "cell_type": "code",
   "execution_count": 6,
   "metadata": {
    "scrolled": false
   },
   "outputs": [
    {
     "name": "stdout",
     "output_type": "stream",
     "text": [
      "96.07843137254902\n",
      "96.07843137254902\n"
     ]
    },
    {
     "data": {
      "image/png": "[encoded data removed]",
      "text/plain": [
       "<Figure size 432x288 with 1 Axes>"
      ]
     },
     "metadata": {
      "needs_background": "light"
     },
     "output_type": "display_data"
    }
   ],
   "source": [
    "# Gini vs Entropy\n",
    "plt.plot(depth_range,giniTrain,label='Gini Train')\n",
    "plt.plot(depth_range,giniTest, label='Gini Test')\n",
    "plt.xticks(depth_range)\n",
    "plt.xlabel('Max Depth')\n",
    "plt.ylabel('Accuracy')\n",
    "plt.legend(loc='upper right', bbox_to_anchor=(.35, 0.2))\n",
    "print(max(entropyTest) * 100)\n",
    "print(max(giniTest) * 100)\n",
    "algoAccuracies.append(max(giniTest))"
   ]
  },
  {
   "cell_type": "code",
   "execution_count": 7,
   "metadata": {},
   "outputs": [
    {
     "name": "stdout",
     "output_type": "stream",
     "text": [
      "100.0\n",
      "100.0\n"
     ]
    },
    {
     "data": {
      "image/png": "[encoded data removed]",
      "text/plain": [
       "<Figure size 432x288 with 1 Axes>"
      ]
     },
     "metadata": {
      "needs_background": "light"
     },
     "output_type": "display_data"
    }
   ],
   "source": [
    "# Gini vs Entropy\n",
    "plt.plot(depth_range,entropyTrain,label='Entropy Train')\n",
    "plt.plot(depth_range,entropyTest, label='Entropy Test')\n",
    "plt.xticks(depth_range)\n",
    "plt.xlabel('Max Depth')\n",
    "plt.ylabel('Accuracy')\n",
    "plt.legend(loc='upper right', bbox_to_anchor=(.35, 0.2))\n",
    "print(max(entropyTrain) * 100)\n",
    "print(max(giniTrain) * 100)"
   ]
  },
  {
   "cell_type": "markdown",
   "metadata": {},
   "source": [
    "# Neural Networks"
   ]
  },
  {
   "cell_type": "code",
   "execution_count": 8,
   "metadata": {},
   "outputs": [],
   "source": [
    "hiddenlayer = [10,20,30,40,50,60,70,80,90,100,110,120,130,140,150]\n",
    "nnTrain = []\n",
    "nnTest = []\n",
    "for i in hiddenlayer:\n",
    "    nn = MLPClassifier(hidden_layer_sizes = (i,), learning_rate_init=0.05, random_state=42)\n",
    "    nn.fit(xtrain, ytrain)\n",
    "    ypredTrain = nn.predict(xtrain)\n",
    "    ypredTest = nn.predict(xtest)\n",
    "    nnTrain.append(accuracy_score(ytrain,ypredTrain))\n",
    "    nnTest.append(accuracy_score(ytest,ypredTest))"
   ]
  },
  {
   "cell_type": "code",
   "execution_count": 9,
   "metadata": {},
   "outputs": [
    {
     "name": "stdout",
     "output_type": "stream",
     "text": [
      "100.0\n",
      "100.0\n"
     ]
    },
    {
     "data": {
      "image/png": "[encoded data removed]",
      "text/plain": [
       "<Figure size 432x288 with 1 Axes>"
      ]
     },
     "metadata": {
      "needs_background": "light"
     },
     "output_type": "display_data"
    }
   ],
   "source": [
    "plt.plot(hiddenlayer,nnTrain,label='NN on Train')\n",
    "plt.plot(hiddenlayer,nnTest,label='NN on Test')\n",
    "plt.xticks(hiddenlayer)\n",
    "plt.xlabel('Hidden Layers')\n",
    "plt.ylabel('Accuracy')\n",
    "plt.legend(loc='upper right', bbox_to_anchor=(0.35, 0.2))\n",
    "print(max(nnTrain) * 100)\n",
    "print(max(nnTest) * 100)"
   ]
  },
  {
   "cell_type": "code",
   "execution_count": 10,
   "metadata": {
    "scrolled": true
   },
   "outputs": [
    {
     "name": "stdout",
     "output_type": "stream",
     "text": [
      "Best parameters found:\n",
      " {'activation': 'logistic', 'alpha': 0.0001, 'hidden_layer_sizes': (10,), 'learning_rate': 'constant', 'solver': 'sgd'}\n"
     ]
    },
    {
     "name": "stderr",
     "output_type": "stream",
     "text": [
      "C:\\Users\\Nimesh\\AppData\\Roaming\\Python\\Python37\\site-packages\\sklearn\\neural_network\\_multilayer_perceptron.py:617: ConvergenceWarning: Stochastic Optimizer: Maximum iterations (200) reached and the optimization hasn't converged yet.\n",
      "  % self.max_iter, ConvergenceWarning)\n"
     ]
    }
   ],
   "source": [
    "nnParams = {\n",
    "    'hidden_layer_sizes':[(10,),(30,),(50,),(70,),(90,),(110,),(130,),(150,)],\n",
    "    'activation':['tanh', 'relu', 'logistic'],\n",
    "    'solver':['sgd','adam'],\n",
    "    'alpha':[0.0001,.005,.01,.05],\n",
    "    'learning_rate':['constant', 'adaptive'],\n",
    "}\n",
    "nn = MLPClassifier()\n",
    "start_time = time.time()\n",
    "clf = GridSearchCV(nn,nnParams,n_jobs=-1,cv=2)\n",
    "clf.fit(xtrain,ytrain)\n",
    "print('Best parameters found:\\n', clf.best_params_)\n",
    "\n",
    "algoTimes.append(time.time() - start_time)\n",
    "\n",
    "ypredTest = clf.predict(xtest)\n",
    "accuracy_score(ytest,ypredTest)\n",
    "\n",
    "algoAccuracies.append(accuracy_score(ytest,ypredTest))"
   ]
  },
  {
   "cell_type": "markdown",
   "metadata": {},
   "source": [
    "# Boosted Decision Tree"
   ]
  },
  {
   "cell_type": "code",
   "execution_count": 11,
   "metadata": {},
   "outputs": [],
   "source": [
    "estimators = [1,10,20,30,40,50,60,70,80,90,100,110,120,130,140,150,160,170,180,190,200]\n",
    "bTreeTrain = []\n",
    "bTreeTest = []\n",
    "for i in estimators:\n",
    "    bDtree = GradientBoostingClassifier(n_estimators=i, random_state=42)\n",
    "    bDtree.fit(xtrain, ytrain)\n",
    "    ypredTrain = bDtree.predict(xtrain)\n",
    "    ypredTest = bDtree.predict(xtest)\n",
    "    bTreeTrain.append(accuracy_score(ytrain,ypredTrain))\n",
    "    bTreeTest.append(accuracy_score(ytest,ypredTest))"
   ]
  },
  {
   "cell_type": "code",
   "execution_count": 12,
   "metadata": {},
   "outputs": [
    {
     "name": "stdout",
     "output_type": "stream",
     "text": [
      "100.0\n",
      "96.07843137254902\n"
     ]
    },
    {
     "data": {
      "image/png": "[encoded data removed]",
      "text/plain": [
       "<Figure size 432x288 with 1 Axes>"
      ]
     },
     "metadata": {
      "needs_background": "light"
     },
     "output_type": "display_data"
    }
   ],
   "source": [
    "plt.plot(estimators,bTreeTrain,label='NN on Train')\n",
    "plt.plot(estimators,bTreeTest,label='NN on Test')\n",
    "plt.xticks(estimators)\n",
    "plt.xlabel('Num boosting stages')\n",
    "plt.ylabel('Accuracy')\n",
    "plt.legend(loc='upper right', bbox_to_anchor=(0.35, 0.2))\n",
    "print(max(bTreeTrain) * 100)\n",
    "print(max(bTreeTest) * 100)"
   ]
  },
  {
   "cell_type": "code",
   "execution_count": 13,
   "metadata": {},
   "outputs": [
    {
     "name": "stdout",
     "output_type": "stream",
     "text": [
      "Best parameters found:\n",
      " {'max_depth': 3, 'n_estimators': 60}\n",
      "0.9607843137254902\n"
     ]
    }
   ],
   "source": [
    "bdTreeParams = {\n",
    "    'n_estimators': estimators,\n",
    "    'max_depth':[3,4,5],\n",
    "}\n",
    "bDtree = GradientBoostingClassifier()\n",
    "start_time = time.time()\n",
    "clf = GridSearchCV(bDtree,bdTreeParams,n_jobs=-1,cv=2)\n",
    "clf.fit(xtrain,ytrain)\n",
    "algoTimes.append(time.time() - start_time)\n",
    "print('Best parameters found:\\n', clf.best_params_)\n",
    "\n",
    "ypredTest = clf.predict(xtest)\n",
    "print(accuracy_score(ytest,ypredTest))\n",
    "algoAccuracies.append(accuracy_score(ytest,ypredTest))"
   ]
  },
  {
   "cell_type": "markdown",
   "metadata": {},
   "source": [
    "# Support Vector Machines"
   ]
  },
  {
   "cell_type": "code",
   "execution_count": 14,
   "metadata": {},
   "outputs": [],
   "source": [
    "#omitted precomputer kernel because it's not a square matrix\n",
    "kernels = ['poly','rbf','sigmoid', 'linear']\n",
    "poly = [2,3,4,5,6,7,8]\n",
    "\n",
    "testAcc = []\n",
    "trainAcc = []\n",
    "start_time = time.time()\n",
    "for kernel in kernels:\n",
    "    if kernel == 'poly':\n",
    "        for i in poly:\n",
    "            svm = SVC(kernel = kernel, degree = i,random_state=42)\n",
    "            svm.fit(xtrain,ytrain)\n",
    "            ypredTrain = svm.predict(xtrain)\n",
    "            ypredTest = svm.predict(xtest)\n",
    "            trainAcc.append(accuracy_score(ytrain,ypredTrain))\n",
    "            testAcc.append(accuracy_score(ytest,ypredTest))\n",
    "    elif kernel == 'sigmoid':\n",
    "        svm = SVC(kernel = kernel,random_state=42,gamma='auto')\n",
    "        svm.fit(xtrain,ytrain)\n",
    "        ypredTrain = svm.predict(xtrain)\n",
    "        ypredTest = svm.predict(xtest)\n",
    "        trainAcc.append(accuracy_score(ytrain,ypredTrain))\n",
    "        testAcc.append(accuracy_score(ytest,ypredTest))\n",
    "    else:\n",
    "        svm = SVC(kernel = kernel,random_state=42)\n",
    "        svm.fit(xtrain,ytrain)\n",
    "        ypredTrain = svm.predict(xtrain)\n",
    "        ypredTest = svm.predict(xtest)\n",
    "        trainAcc.append(accuracy_score(ytrain,ypredTrain))\n",
    "        testAcc.append(accuracy_score(ytest,ypredTest))\n",
    "algoTimes.append(time.time()-start_time)"
   ]
  },
  {
   "cell_type": "code",
   "execution_count": 15,
   "metadata": {},
   "outputs": [
    {
     "name": "stdout",
     "output_type": "stream",
     "text": [
      "100.0\n",
      "100.0\n"
     ]
    },
    {
     "data": {
      "image/png": "[encoded data removed]",
      "text/plain": [
       "<Figure size 432x288 with 1 Axes>"
      ]
     },
     "metadata": {
      "needs_background": "light"
     },
     "output_type": "display_data"
    }
   ],
   "source": [
    "xlabels = ['poly2', 'poly3', 'poly4', 'poly5','poly6','poly7','poly8','rbf','sigmoid','linear']\n",
    "plt.plot(xlabels, trainAcc,label='SVM on Train')\n",
    "plt.plot(xlabels, testAcc,label='SVM on Test')\n",
    "plt.xlabel('Kernel')\n",
    "plt.ylabel('Accuracy')\n",
    "plt.legend(loc='upper right', bbox_to_anchor=(0.35, 0.2))\n",
    "print(max(testAcc) * 100)\n",
    "print(max(trainAcc) * 100)\n",
    "algoAccuracies.append(max(testAcc))"
   ]
  },
  {
   "cell_type": "markdown",
   "metadata": {},
   "source": [
    "# k-nearest neighbors"
   ]
  },
  {
   "cell_type": "code",
   "execution_count": 16,
   "metadata": {},
   "outputs": [],
   "source": [
    "neighbors = range(1, 20)\n",
    "knnTrain = []\n",
    "knnTest = []\n",
    "for i in neighbors:\n",
    "    knn = KNeighborsClassifier(n_neighbors = i)\n",
    "    knn.fit(xtrain,ytrain)\n",
    "    ypredTrain = knn.predict(xtrain)\n",
    "    ypredTest = knn.predict(xtest)\n",
    "    knnTrain.append(accuracy_score(ytrain,ypredTrain))\n",
    "    knnTest.append(accuracy_score(ytest,ypredTest))"
   ]
  },
  {
   "cell_type": "code",
   "execution_count": 17,
   "metadata": {
    "scrolled": true
   },
   "outputs": [
    {
     "name": "stdout",
     "output_type": "stream",
     "text": [
      "100.0\n",
      "98.0392156862745\n"
     ]
    },
    {
     "data": {
      "image/png": "[encoded data removed]",
      "text/plain": [
       "<Figure size 432x288 with 1 Axes>"
      ]
     },
     "metadata": {
      "needs_background": "light"
     },
     "output_type": "display_data"
    }
   ],
   "source": [
    "plt.plot(neighbors, knnTrain,label='KNN on Train')\n",
    "plt.plot(neighbors, knnTest,label='KNN on Test')\n",
    "plt.xticks(neighbors)\n",
    "plt.ylabel('Accuracy')\n",
    "plt.xlabel('Number of Neighbors')\n",
    "plt.legend(loc='upper right', bbox_to_anchor=(0.8, 0.2))\n",
    "print(max(knnTrain) * 100)\n",
    "print(max(knnTest) * 100)"
   ]
  },
  {
   "cell_type": "code",
   "execution_count": 18,
   "metadata": {},
   "outputs": [
    {
     "name": "stdout",
     "output_type": "stream",
     "text": [
      "Best parameters found:\n",
      " {'algorithm': 'auto', 'n_neighbors': 1, 'weights': 'uniform'}\n",
      "0.9803921568627451\n"
     ]
    }
   ],
   "source": [
    "knnParams = {\n",
    "    'n_neighbors':[1,2,4,5,6,7,8,9,10],\n",
    "    'weights': ['uniform','distance'],\n",
    "    'algorithm':['auto','ball_tree','kd_tree','brute'],\n",
    "}\n",
    "knn = KNeighborsClassifier()\n",
    "start_time = time.time()\n",
    "clf = GridSearchCV(knn,knnParams,n_jobs=-1,cv=2)\n",
    "clf.fit(xtrain,ytrain)\n",
    "algoTimes.append(time.time() - start_time)\n",
    "print('Best parameters found:\\n', clf.best_params_)\n",
    "\n",
    "ypredTest = clf.predict(xtest)\n",
    "print(accuracy_score(ytest,ypredTest))\n",
    "algoAccuracies.append(accuracy_score(ytest,ypredTest))"
   ]
  },
  {
   "cell_type": "markdown",
   "metadata": {},
   "source": [
    "# Comparison of Algorithms"
   ]
  },
  {
   "cell_type": "code",
   "execution_count": 19,
   "metadata": {},
   "outputs": [
    {
     "data": {
      "text/plain": [
       "[0.9607843137254902, 1.0, 0.9607843137254902, 1.0, 0.9803921568627451]"
      ]
     },
     "execution_count": 19,
     "metadata": {},
     "output_type": "execute_result"
    }
   ],
   "source": [
    "algoAccuracies"
   ]
  },
  {
   "cell_type": "code",
   "execution_count": 20,
   "metadata": {},
   "outputs": [
    {
     "data": {
      "text/plain": [
       "[0.19289755821228027,\n",
       " 18.311766862869263,\n",
       " 1.255711555480957,\n",
       " 0.06399655342102051,\n",
       " 0.2669997215270996]"
      ]
     },
     "execution_count": 20,
     "metadata": {},
     "output_type": "execute_result"
    }
   ],
   "source": [
    "algoTimes"
   ]
  },
  {
   "cell_type": "code",
   "execution_count": 21,
   "metadata": {},
   "outputs": [
    {
     "data": {
      "text/plain": [
       "Text(0.5, 0, 'Algorithms')"
      ]
     },
     "execution_count": 21,
     "metadata": {},
     "output_type": "execute_result"
    },
    {
     "data": {
      "image/png": "[encoded data removed]",
      "text/plain": [
       "<Figure size 432x288 with 1 Axes>"
      ]
     },
     "metadata": {
      "needs_background": "light"
     },
     "output_type": "display_data"
    }
   ],
   "source": [
    "plt.bar(algoXLabels, algoTimes)\n",
    "plt.ylabel('Time (seconds)')\n",
    "plt.xlabel('Algorithms')"
   ]
  },
  {
   "cell_type": "code",
   "execution_count": 30,
   "metadata": {},
   "outputs": [
    {
     "data": {
      "text/plain": [
       "Text(0.5, 0, 'Algorithms')"
      ]
     },
     "execution_count": 30,
     "metadata": {},
     "output_type": "execute_result"
    },
    {
     "data": {
      "image/png": "[encoded data removed]",
      "text/plain": [
       "<Figure size 432x288 with 1 Axes>"
      ]
     },
     "metadata": {
      "needs_background": "light"
     },
     "output_type": "display_data"
    }
   ],
   "source": [
    "plt.bar(algoXLabels, algoAccuracies)\n",
    "plt.ylabel('Accuracy of Test')\n",
    "plt.ylim(.9, 1)\n",
    "plt.xlabel('Algorithms')"
   ]
  },
  {
   "cell_type": "code",
   "execution_count": null,
   "metadata": {},
   "outputs": [],
   "source": []
  }
 ],
 "metadata": {
  "kernelspec": {
   "display_name": "Python 3",
   "language": "python",
   "name": "python3"
  },
  "language_info": {
   "codemirror_mode": {
    "name": "ipython",
    "version": 3
   },
   "file_extension": ".py",
   "mimetype": "text/x-python",
   "name": "python",
   "nbconvert_exporter": "python",
   "pygments_lexer": "ipython3",
   "version": "3.7.8"
  }
 },
 "nbformat": 4,
 "nbformat_minor": 4
}
